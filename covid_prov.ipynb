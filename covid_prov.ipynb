{
 "cells": [
  {
   "cell_type": "code",
   "execution_count": 1,
   "metadata": {},
   "outputs": [
    {
     "data": {
      "image/png": "[encoded data removed]",
      "text/plain": [
       "<Figure size 432x288 with 1 Axes>"
      ]
     },
     "metadata": {
      "needs_background": "light"
     },
     "output_type": "display_data"
    }
   ],
   "source": [
    "import requests\n",
    "import csv\n",
    "from io import StringIO\n",
    "import datetime as dt\n",
    "from typing import List\n",
    "import matplotlib.pyplot as plt\n",
    "from tkinter import *\n",
    "\n",
    "ROOT_PROVINCE = \"https://raw.githubusercontent.com/pcm-dpc/COVID-19/master/dati-province/dpc-covid19-ita-province-\"\n",
    "START_DATE_STR = \"20200301\"\n",
    "\n",
    "def build_urls_province():  \n",
    "    urls = []\n",
    "    date = dt.datetime.strptime(START_DATE_STR, '%Y%m%d')\n",
    "    today = dt.datetime.today()\n",
    "    delta_days = (today - date).days\n",
    "    for ind in range(0, delta_days):\n",
    "        date_str =  dt.datetime.strftime(date, '%Y%m%d')\n",
    "        urls = urls + [ROOT_PROVINCE + date_str + '.csv']\n",
    "        # date plus 1 day\n",
    "        date = date + dt.timedelta(days=1)\n",
    "    return urls\n",
    "    \n",
    "def get_province_cases(urls, prov):\n",
    "    cases: List[int] = []\n",
    "    for url in urls:\n",
    "        session = requests.Session()\n",
    "        resp = session.get(url)\n",
    "        text = resp.text\n",
    "        buff = StringIO(text)\n",
    "        rd = csv.reader(buff)\n",
    "        for rw in rd:\n",
    "            cur_prov = rw[5]\n",
    "            cur_prov = cur_prov.replace(\"'\", \" \")\n",
    "            if cur_prov == prov:\n",
    "                cases = cases + [int(rw[9])]\n",
    "                #print(f\"{city}, cases: {cases}\")\n",
    "    return cases\n",
    "                \n",
    "def get_daily(cases):\n",
    "    first = cases[0]\n",
    "    daily = [first]\n",
    "    tail = cases[1:len(cases)]\n",
    "    for ind, item in enumerate(tail):\n",
    "        daily = daily + [item - cases[ind]]\n",
    "    return daily\n",
    "\n",
    "\n",
    "prov = ''\n",
    "\n",
    "root = Tk()\n",
    "menu = Menu(root) \n",
    "OptionList = [\"Bologna\", \"Modena\", \"Reggio nell Emilia\", \"Roma\"]\n",
    "variable = StringVar(root)\n",
    "variable.set(OptionList[0])\n",
    "opt = OptionMenu(root, variable, *OptionList)\n",
    "opt.pack()\n",
    "root.mainloop()\n",
    "\n",
    "prov = variable.get()\n",
    "\n",
    "urls = build_urls_province()\n",
    "\n",
    "cases = get_province_cases(urls, prov)\n",
    "#cases = [2, 3, 6, 11, 19, 41, 49, 62, 80, 86, 108, 122, 155, 195, 230, 291, 333, 395, 465, 552, 610, 674]\n",
    "x_axis = [x for x in range(1, len(cases) + 1)]\n",
    "\n",
    "daily= get_daily(cases)\n",
    "#print(cases)\n",
    "#print(daily)\n",
    "plt.bar(x_axis, cases, align='center', alpha=0.5, label = \"cumulative\")\n",
    "plt.bar(x_axis, daily, align='center', alpha=0.5, label = \"daily\")\n",
    "plt.legend()\n",
    "plt.title(\"Infections in \" + prov)\n",
    "plt.xlabel(\"Days. Starting from March 1\")\n",
    "plt.ylabel(\"Number of infections\")\n",
    "plt.show()\n",
    "\n"
   ]
  },
  {
   "cell_type": "code",
   "execution_count": null,
   "metadata": {},
   "outputs": [],
   "source": []
  }
 ],
 "metadata": {
  "kernelspec": {
   "display_name": "Python 3",
   "language": "python",
   "name": "python3"
  },
  "language_info": {
   "codemirror_mode": {
    "name": "ipython",
    "version": 3
   },
   "file_extension": ".py",
   "mimetype": "text/x-python",
   "name": "python",
   "nbconvert_exporter": "python",
   "pygments_lexer": "ipython3",
   "version": "3.7.1"
  }
 },
 "nbformat": 4,
 "nbformat_minor": 4
}
